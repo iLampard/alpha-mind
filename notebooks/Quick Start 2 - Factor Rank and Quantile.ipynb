{
 "cells": [
  {
   "cell_type": "markdown",
   "metadata": {
    "collapsed": true
   },
   "source": [
    "alpha-mind的data文件夹提供了对于因子数据进行排序和求分位数的工具函数"
   ]
  },
  {
   "cell_type": "markdown",
   "metadata": {},
   "source": [
    "### 因子排序： *rank*\n",
    "- 从小到大排序，返回序列值。\n",
    "- 可以进行整体排序，也可以分行业(分组)排序。"
   ]
  },
  {
   "cell_type": "code",
   "execution_count": null,
   "metadata": {},
   "outputs": [],
   "source": [
    "import numpy as np\n",
    "import pandas as pd\n",
    "from alphamind.data.rank import rank\n",
    "\n",
    "# 假设有10只股票，每只股票有2个因子，构成一个矩阵\n",
    "factors = pd.DataFrame(np.random.rand(10, 2))\n",
    "factors.columns = ['factor_1', 'factor_2']\n",
    "factors['rank_1'] = rank(factors['factor_1'].values)\n",
    "factors['rank_2'] = rank(factors['factor_2'].values)\n",
    "\n",
    "factors\n"
   ]
  },
  {
   "cell_type": "code",
   "execution_count": null,
   "metadata": {},
   "outputs": [],
   "source": [
    "# 假设有10只股票，每只股票有1个因子\n",
    "factors = pd.DataFrame(np.random.rand(10, 1))\n",
    "factors.columns = ['factor_1']\n",
    "\n",
    "# 假设这10只股票分为两个行业,前5个和后5个分属不同类别\n",
    "industry = np.concatenate([np.array([1.0]*5), np.array([2.0]*5)])\n",
    "\n",
    "factors['rank'] = rank(factors['factor_1'].values, groups=industry)\n",
    "factors"
   ]
  },
  {
   "cell_type": "markdown",
   "metadata": {},
   "source": [
    "### 因子分位数: *quantile*\n",
    "- 根据给定组数*(n_bins)*，按从小达到的顺序进行分组，返回每个因子属于的组别。"
   ]
  },
  {
   "cell_type": "code",
   "execution_count": null,
   "metadata": {},
   "outputs": [],
   "source": [
    "from alphamind.data.quantile import quantile\n",
    "\n",
    "factors['quantile'] = quantile(factors['factor_1'].values, n_bins=5)\n",
    "factors\n"
   ]
  },
  {
   "cell_type": "code",
   "execution_count": null,
   "metadata": {},
   "outputs": [],
   "source": []
  }
 ],
 "metadata": {
  "kernelspec": {
   "display_name": "Python 3",
   "language": "python",
   "name": "python3"
  },
  "language_info": {
   "codemirror_mode": {
    "name": "ipython",
    "version": 3
   },
   "file_extension": ".py",
   "mimetype": "text/x-python",
   "name": "python",
   "nbconvert_exporter": "python",
   "pygments_lexer": "ipython3",
   "version": "3.6.6"
  }
 },
 "nbformat": 4,
 "nbformat_minor": 1
}
